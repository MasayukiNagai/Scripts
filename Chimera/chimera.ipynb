{
 "cells": [
  {
   "cell_type": "code",
   "execution_count": 56,
   "id": "dimensional-pension",
   "metadata": {},
   "outputs": [],
   "source": [
    "infile = './data/GLA-1R46.chimerax'\n",
    "outfile = './data/GLA-1R46.cxc'"
   ]
  },
  {
   "cell_type": "code",
   "execution_count": 53,
   "id": "disciplinary-thought",
   "metadata": {},
   "outputs": [],
   "source": [
    "import xml.etree.ElementTree as ET"
   ]
  },
  {
   "cell_type": "code",
   "execution_count": 59,
   "id": "known-sender",
   "metadata": {},
   "outputs": [],
   "source": [
    "def convert_chimerax2cxc(infile, outfile):\n",
    "    myTree = ET.parse(infile)\n",
    "    ChimeraPuppet = myTree.getroot()\n",
    "    pdb = ChimeraPuppet[0][0].attrib['id']\n",
    "    lines = [f'open {pdb}']\n",
    "    commands = ChimeraPuppet[1]\n",
    "    for command in commands:\n",
    "        new_cmd = convert_command(command.text)\n",
    "        if new_cmd:\n",
    "            lines.append(new_cmd)\n",
    "    with open(outfile, 'w') as f:\n",
    "        f.write('\\n'.join(lines))"
   ]
  },
  {
   "cell_type": "code",
   "execution_count": 60,
   "id": "dramatic-album",
   "metadata": {},
   "outputs": [],
   "source": [
    "convert_chimerax2cxc(infile, outfile)"
   ]
  },
  {
   "cell_type": "code",
   "execution_count": 20,
   "id": "upset-robinson",
   "metadata": {},
   "outputs": [],
   "source": [
    "mytree = ET.parse(infile)\n",
    "ChimeraPuppet = mytree.getroot()"
   ]
  },
  {
   "cell_type": "code",
   "execution_count": 27,
   "id": "adjustable-vitamin",
   "metadata": {},
   "outputs": [],
   "source": [
    "pdb = ChimeraPuppet[0][0].attrib['id']"
   ]
  },
  {
   "cell_type": "code",
   "execution_count": 52,
   "id": "comfortable-school",
   "metadata": {},
   "outputs": [
    {
     "name": "stdout",
     "output_type": "stream",
     "text": [
      "label /A:237@NZ atoms text \"Lys-237\"\n",
      "label /A:139@CA atoms text \"Asn-139\"\n",
      "label /A:186@CE1 atoms text \"His-186\"\n",
      "label /A:391@NZ atoms text \"Lys-391\"\n",
      "label /A:393@NZ atoms text \"Lys-393\"\n",
      "label /A:127@NZ atoms text \"Lys-127\"\n",
      "label /A:314@NZ atoms text \"Lys-314\"\n",
      "label /A:371@OG atoms text \"Ser-371\"\n",
      "label /A:326@NZ atoms text \"Lys-326\"\n",
      "label /A:402@CZ atoms text \"Arg-402\"\n",
      "label /A:240@NZ atoms text \"Lys-240\"\n",
      "label /A:308@NZ atoms text \"Lys-308\"\n",
      "label /A:192@CA atoms text \"Asn-192\"\n",
      "label /B:237@NZ atoms text \"Lys-237\"\n",
      "label /B:139@CA atoms text \"Asn-139\"\n",
      "label /B:186@CE1 atoms text \"His-186\"\n",
      "label /B:391@NZ atoms text \"Lys-391\"\n",
      "label /B:393@NZ atoms text \"Lys-393\"\n",
      "label /B:127@NZ atoms text \"Lys-127\"\n",
      "label /B:314@NZ atoms text \"Lys-314\"\n",
      "label /B:371@OG atoms text \"Ser-371\"\n",
      "label /B:326@NZ atoms text \"Lys-326\"\n",
      "label /B:402@CZ atoms text \"Arg-402\"\n",
      "label /B:240@NZ atoms text \"Lys-240\"\n",
      "label /B:308@NZ atoms text \"Lys-308\"\n",
      "label /B:192@CA atoms text \"Asn-192\"\n",
      "None\n",
      "None\n",
      "None\n",
      "color /A:237@CE,NZ cyan\n",
      "color /A:139@CA blue\n",
      "color /A:186@CA blue\n",
      "color /A:391@CE,NZ cyan\n",
      "color /A:393@CE,NZ cyan\n",
      "color /A:127@CE,NZ cyan\n",
      "color /A:314@CE,NZ cyan\n",
      "color /A:371@OG,CB orange\n",
      "color /A:326@CE,NZ cyan\n",
      "color /A:402@NH1,CZ,NH2 green\n",
      "color /A:240@CE,NZ cyan\n",
      "color /A:308@CE,NZ cyan\n",
      "color /A:192@CA blue\n",
      "color /B:237@CE,NZ cyan\n",
      "color /B:139@CA blue\n",
      "color /B:186@CA blue\n",
      "color /B:391@CE,NZ cyan\n",
      "color /B:393@CE,NZ cyan\n",
      "color /B:127@CE,NZ cyan\n",
      "color /B:314@CE,NZ cyan\n",
      "color /B:371@OG,CB orange\n",
      "color /B:326@CE,NZ cyan\n",
      "color /B:402@NH1,CZ,NH2 green\n",
      "color /B:240@CE,NZ cyan\n",
      "color /B:308@CE,NZ cyan\n",
      "color /B:192@CA blue\n"
     ]
    }
   ],
   "source": [
    "commands = ChimeraPuppet[1]\n",
    "for command in commands:\n",
    "    new_cmd = convert_command(command.text)\n",
    "    print(new_cmd)"
   ]
  },
  {
   "cell_type": "code",
   "execution_count": 61,
   "id": "looking-quarter",
   "metadata": {},
   "outputs": [],
   "source": [
    "def convert_command(command):\n",
    "    elements = command.split(' ')\n",
    "    cmd = ''\n",
    "    if elements[0] == 'setattr':\n",
    "        level = elements[1]\n",
    "        if elements[2] == 'label':\n",
    "            cmd = 'label'\n",
    "    elif elements[0] == 'color':\n",
    "        cmd = 'color'\n",
    "    elif elements[0] == 'surface':\n",
    "        cmd = 'surface'\n",
    "    elif elements[0] == 'surftrans':\n",
    "        cmd = 'transparency'\n",
    "    \n",
    "    if cmd == 'label':\n",
    "        value = elements[3]\n",
    "        specifier = elements[4]\n",
    "        specifier = _convert_specifier(specifier)\n",
    "        level = _convert_level(level)\n",
    "        return f'label {specifier} {level} text {value}'\n",
    "    elif cmd == 'color':\n",
    "        colorname = elements[1]\n",
    "        specifier = elements[2]\n",
    "        specifier = _convert_specifier(specifier)\n",
    "        return f'color {specifier} {colorname}'\n",
    "    elif cmd == 'surface':\n",
    "        return 'surface'\n",
    "    elif cmd == 'transparency':\n",
    "        percent = elements[1]\n",
    "        return f'transparency {percent}'\n",
    "\n",
    "\n",
    "def _convert_specifier(specifier):\n",
    "    # Assumes a format like \":88.A@OG\" \n",
    "    index = specifier.find('.')\n",
    "    if index < 0:\n",
    "        return specifier\n",
    "    residues = specifier[:index]\n",
    "    chain = specifier[index+1]\n",
    "    atoms = specifier[index+2:]\n",
    "    return f'/{chain}{residues}{atoms}'\n",
    "\n",
    "\n",
    "def _convert_level(level):\n",
    "    # a | r | m | b | p | g\n",
    "    if level == 'a':\n",
    "        return 'atoms'\n",
    "    elif level == 'r':\n",
    "        return 'residues'\n",
    "    elif level == 'b':\n",
    "        return 'bonds'\n",
    "    elif level == 'p':\n",
    "        return 'pseudobonds'\n",
    "    else:  # m or g\n",
    "        print(f'Unable to process \"{level}\"')\n",
    "        return level\n"
   ]
  }
 ],
 "metadata": {
  "kernelspec": {
   "display_name": "Python 3",
   "language": "python",
   "name": "python3"
  },
  "language_info": {
   "codemirror_mode": {
    "name": "ipython",
    "version": 3
   },
   "file_extension": ".py",
   "mimetype": "text/x-python",
   "name": "python",
   "nbconvert_exporter": "python",
   "pygments_lexer": "ipython3",
   "version": "3.9.0"
  }
 },
 "nbformat": 4,
 "nbformat_minor": 5
}
